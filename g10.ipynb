{
 "cells": [
  {
   "cell_type": "markdown",
   "metadata": {},
   "source": [
    "# g10 "
   ]
  },
  {
   "cell_type": "markdown",
   "metadata": {},
   "source": [
    "Contents\n",
    "> [examples](#examples)\n",
    ">\n",
    ">> [transform](#transform)\n",
    ">>\n",
    ">>> [constructors](#transform--constructors)\n",
    ">>>\n",
    ">>> [serializers](#transform--serializers)\n",
    ">>\n",
    ">> [scene](#scene)\n",
    ">>\n",
    ">>> [constructors](#scene--constructors)\n",
    ">>\n",
    ">>\n",
    "> [main](#main)"
   ]
  },
  {
   "cell_type": "markdown",
   "metadata": {},
   "source": [
    "## examples"
   ]
  },
  {
   "cell_type": "code",
   "execution_count": 1,
   "metadata": {},
   "outputs": [],
   "source": [
    "# Context for this notebook\n",
    "\n",
    "# Imports\n",
    "import g10\n",
    "from g10 import Scene, Entity, Transform, Camera\n",
    "\n",
    "# Context\n",
    "g10.json_indent = 4"
   ]
  },
  {
   "cell_type": "markdown",
   "metadata": {},
   "source": [
    "### transform"
   ]
  },
  {
   "cell_type": "markdown",
   "metadata": {},
   "source": [
    "#### transform > constructors"
   ]
  },
  {
   "cell_type": "code",
   "execution_count": 2,
   "metadata": {},
   "outputs": [
    {
     "name": "stdout",
     "output_type": "stream",
     "text": [
      "{\n",
      "    \"$schema\": \"https://schema.g10.app/transform.json\",\n",
      "    \"location\": [\n",
      "        0,\n",
      "        0,\n",
      "        0\n",
      "    ],\n",
      "    \"rotation\": [\n",
      "        1,\n",
      "        0,\n",
      "        0,\n",
      "        0\n",
      "    ],\n",
      "    \"scale\": [\n",
      "        1,\n",
      "        1,\n",
      "        1\n",
      "    ]\n",
      "}\n"
     ]
    }
   ],
   "source": [
    "# Construct a transform from parameters\n",
    "\n",
    "# Entry point\n",
    "def main ( ):\n",
    "\n",
    "    # Initialized data\n",
    "    transform : Transform = Transform( [0, 0, 0], [ 1, 0, 0, 0 ], [ 1, 1, 1 ] )\n",
    "    \n",
    "    # Print the transform\n",
    "    print(transform)\n",
    "\n",
    "    # Done\n",
    "    return\n",
    "\n",
    "# Invoke\n",
    "main()"
   ]
  },
  {
   "cell_type": "code",
   "execution_count": 3,
   "metadata": {},
   "outputs": [
    {
     "name": "stdout",
     "output_type": "stream",
     "text": [
      "{\n",
      "    \"$schema\": \"https://schema.g10.app/transform.json\",\n",
      "    \"location\": [\n",
      "        0,\n",
      "        0,\n",
      "        0\n",
      "    ],\n",
      "    \"rotation\": [\n",
      "        1,\n",
      "        0,\n",
      "        0,\n",
      "        0\n",
      "    ],\n",
      "    \"scale\": [\n",
      "        1,\n",
      "        1,\n",
      "        1\n",
      "    ]\n",
      "}\n"
     ]
    }
   ],
   "source": [
    "# Construct a transform from json text\n",
    "\n",
    "# Entry point\n",
    "def main ( ):\n",
    "\n",
    "    # Initialized data\n",
    "    transform : Transform = Transform.from_json_text('{\"location\":[0,0,0],\"rotation\":[1,0,0,0],\"scale\":[1,1,1]}')\n",
    "\n",
    "    # Print the transform\n",
    "    print(transform)\n",
    "\n",
    "    # Done\n",
    "    return\n",
    "\n",
    "# Invoke\n",
    "main()\n"
   ]
  },
  {
   "cell_type": "markdown",
   "metadata": {},
   "source": [
    "#### transform > serializers"
   ]
  },
  {
   "cell_type": "code",
   "execution_count": 4,
   "metadata": {},
   "outputs": [
    {
     "name": "stdout",
     "output_type": "stream",
     "text": [
      "{\n",
      "    \"$schema\": \"https://schema.g10.app/transform.json\",\n",
      "    \"location\": [\n",
      "        0,\n",
      "        0,\n",
      "        0\n",
      "    ],\n",
      "    \"rotation\": [\n",
      "        1,\n",
      "        0,\n",
      "        0,\n",
      "        0\n",
      "    ],\n",
      "    \"scale\": [\n",
      "        1,\n",
      "        1,\n",
      "        1\n",
      "    ]\n",
      "}\n"
     ]
    }
   ],
   "source": [
    "# Serialize a transform to json text\n",
    "\n",
    "# Entry point\n",
    "def main ( ):\n",
    "\n",
    "    # Uninitialized data\n",
    "    json_text_out : str\n",
    "\n",
    "    # Initialized data\n",
    "    json_text_in : str = '{\"location\":[0,0,0],\"rotation\":[1,0,0,0],\"scale\":[1,1,1]}'\n",
    "    transform : Transform = Transform.from_json_text(json_text=json_text_in)\n",
    "\n",
    "    # Serialize the transform to json text\n",
    "    json_text_out = transform.json()\n",
    "\n",
    "    # Print the transform\n",
    "    print(json_text_out)\n",
    "\n",
    "    # Done\n",
    "    return\n",
    "\n",
    "# Invoke\n",
    "main()"
   ]
  },
  {
   "cell_type": "code",
   "execution_count": 5,
   "metadata": {},
   "outputs": [],
   "source": [
    "# Serialize a transform to a file\n",
    "\n",
    "# Entry point\n",
    "def main ( ):\n",
    "\n",
    "    # Uninitialized data\n",
    "    json_text_out : str\n",
    "\n",
    "    # Initialized data\n",
    "    json_text_in : str = '{\"location\":[0,0,0],\"rotation\":[1,0,0,0],\"scale\":[1,1,1]}'\n",
    "    transform : Transform = Transform.from_json_text(json_text=json_text_in)\n",
    "\n",
    "    # Push state\n",
    "    tmp = g10.json_indent\n",
    "\n",
    "    # Update state\n",
    "    g10.json_indent = None\n",
    "\n",
    "    # Serialize the transform to json text\n",
    "    json_text_out = transform.write('resources/transform.json')\n",
    "\n",
    "    # Pop state\n",
    "    g10.json_indent = tmp\n",
    "\n",
    "    # Done\n",
    "    return\n",
    "\n",
    "# Invoke\n",
    "main()"
   ]
  },
  {
   "cell_type": "markdown",
   "metadata": {},
   "source": [
    "### scene"
   ]
  },
  {
   "cell_type": "markdown",
   "metadata": {},
   "source": [
    "#### scene > constructors"
   ]
  },
  {
   "cell_type": "code",
   "execution_count": 6,
   "metadata": {},
   "outputs": [
    {
     "name": "stdout",
     "output_type": "stream",
     "text": [
      "{\n",
      "    \"$schema\": \"https://schema.g10.app/scene.json\",\n",
      "    \"name\": \"scene\",\n",
      "    \"entities\": {\n",
      "        \"entity\": {\n",
      "            \"$schema\": \"https://schema.g10.app/entity.json\",\n",
      "            \"transform\": {\n",
      "                \"$schema\": \"https://schema.g10.app/transform.json\",\n",
      "                \"location\": [\n",
      "                    0,\n",
      "                    0,\n",
      "                    0\n",
      "                ],\n",
      "                \"rotation\": [\n",
      "                    1,\n",
      "                    0,\n",
      "                    0,\n",
      "                    0\n",
      "                ],\n",
      "                \"scale\": [\n",
      "                    1,\n",
      "                    1,\n",
      "                    1\n",
      "                ]\n",
      "            },\n",
      "            \"shader\": \"solid color\"\n",
      "        }\n",
      "    }\n",
      "}\n"
     ]
    }
   ],
   "source": [
    "# Construct a scene from parameters\n",
    "\n",
    "# Entry point\n",
    "def main ( ):\n",
    "\n",
    "    # Initialized data\n",
    "    scene : Scene = Scene(\n",
    "        name = 'scene',\n",
    "        entities = {\n",
    "            'entity' : Entity(\n",
    "                transform = Transform([0,0,0], [1,0,0,0], [1,1,1]),\n",
    "                shader = \"solid color\"\n",
    "            )\n",
    "        }\n",
    "    )\n",
    "\n",
    "    # Print the scene\n",
    "    print(scene)\n",
    "\n",
    "    # Done\n",
    "    return\n",
    "\n",
    "# Invoke\n",
    "main()"
   ]
  },
  {
   "cell_type": "code",
   "execution_count": 7,
   "metadata": {},
   "outputs": [],
   "source": [
    "# Construct a scene from json text\n",
    "\n",
    "# Entry point\n",
    "def main ( ):\n",
    "\n",
    "    # TODO\n",
    "    \n",
    "    # Done\n",
    "    return"
   ]
  },
  {
   "cell_type": "markdown",
   "metadata": {},
   "source": [
    "## main"
   ]
  },
  {
   "cell_type": "code",
   "execution_count": 8,
   "metadata": {},
   "outputs": [
    {
     "name": "stdout",
     "output_type": "stream",
     "text": [
      "{\"$schema\": \"https://schema.g10.app/transform.json\", \"location\": [1, 2, 3], \"rotation\": [1, 0, 0, 1], \"scale\": [2, 2, 2]}\n"
     ]
    }
   ],
   "source": [
    "# Imports\n",
    "import g10\n",
    "from g10 import Scene, Entity, Transform, Camera\n",
    "\n",
    "# Context\n",
    "g10.json_indent = None\n",
    "\n",
    "# Entry point\n",
    "def main ( ):\n",
    "\n",
    "    # Initialized data\n",
    "    transform_path : str = 'resources/my_transform.json'\n",
    "\n",
    "    # Make a transform\n",
    "    transform : Transform = Transform(location=[1,2,3],rotation=[1,0,0,1],scale=[2,2,2])\n",
    "\n",
    "    # Write the transform\n",
    "    transform.write(transform_path)\n",
    "\n",
    "    # Release the transform\n",
    "    transform = None\n",
    "\n",
    "    # Load the transform\n",
    "    transform = Transform.read(transform_path)\n",
    "\n",
    "    # Print the transform\n",
    "    print(transform)\n",
    "\n",
    "    # Done\n",
    "    return\n",
    "\n",
    "# Run\n",
    "main()"
   ]
  }
 ],
 "metadata": {
  "kernelspec": {
   "display_name": "Python 3",
   "language": "python",
   "name": "python3"
  },
  "language_info": {
   "codemirror_mode": {
    "name": "ipython",
    "version": 3
   },
   "file_extension": ".py",
   "mimetype": "text/x-python",
   "name": "python",
   "nbconvert_exporter": "python",
   "pygments_lexer": "ipython3",
   "version": "3.12.3"
  }
 },
 "nbformat": 4,
 "nbformat_minor": 2
}
